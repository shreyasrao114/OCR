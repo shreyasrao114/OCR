{
 "cells": [
  {
   "cell_type": "code",
   "execution_count": null,
   "metadata": {
    "id": "svy51_lKpF7v"
   },
   "outputs": [],
   "source": [
    "!pip install pafy\n",
    "!pip install imutils pafy youtube-dl"
   ]
  },
  {
   "cell_type": "code",
   "execution_count": null,
   "metadata": {
    "id": "lx4HUTsyoXsm"
   },
   "outputs": [],
   "source": [
    "import imutils\n",
    "import cv2\n",
    "import pafy\n",
    "from IPython.display import YouTubeVideo\n",
    "url = 'https://www.youtube.com/watch?v=TB_58npl9_o'\n",
    "video = pafy.new(url)\n",
    "best = video.getbest(preftype=\"mp4\")\n",
    "vidcap = cv2.VideoCapture(best.url)"
   ]
  },
  {
   "cell_type": "code",
   "execution_count": null,
   "metadata": {
    "id": "0LwK56GhHula"
   },
   "outputs": [],
   "source": [
    "from google.colab.patches import cv2_imshow\n",
    "!pip install pytesseract\n",
    "!sudo apt install tesseract-ocr"
   ]
  },
  {
   "cell_type": "code",
   "execution_count": null,
   "metadata": {
    "id": "qS7qAXfF6lV0"
   },
   "outputs": [],
   "source": [
    "!which tesseract"
   ]
  },
  {
   "cell_type": "code",
   "execution_count": null,
   "metadata": {
    "id": "tt4OFeb1NElH"
   },
   "outputs": [],
   "source": [
    "import pytesseract\n",
    "pytesseract.pytesseract.tesseract_cmd = (r'/usr/bin/tesseract')"
   ]
  },
  {
   "cell_type": "code",
   "execution_count": null,
   "metadata": {
    "id": "-c7gphkXpacs"
   },
   "outputs": [],
   "source": [
    "size = (int(vidcap.get(3)), int(vidcap.get(4)))\n",
    "result = cv2.VideoWriter('result.mp4', cv2.VideoWriter.fourcc(*'MPEG'), 10, size)\n",
    "count=0\n",
    "while(count<1000): #taking only 1000 frames since colab was disconnecting\n",
    "    ret, frame = vidcap.read()\n",
    "    if ret == True:\n",
    "      print(count)\n",
    "      count+=1\n",
    "      words = ''  #string to add all detected words\n",
    "      results = pytesseract.image_to_data(frame, output_type= pytesseract.Output.DICT)\n",
    "      for i in range(0, len(results[\"text\"])):\n",
    "        x = results[\"left\"][i]\n",
    "        y = results[\"top\"][i]\n",
    "        w = results[\"width\"][i]\n",
    "        h = results[\"height\"][i]\n",
    "        text = results[\"text\"][i]\n",
    "        conf = int(results[\"conf\"][i])\n",
    "        if conf > 40:\n",
    "          cv2.rectangle(frame, (x, y), (x + w, y + h), (0, 255, 0), 2) #bounding box for detected text\n",
    "          words+= ' '+text\n",
    "      cv2.putText(frame, words, (1, size[1] - 10), cv2.FONT_HERSHEY_SIMPLEX, 0.3, (0, 0, 255), 1) #displaying detected text at the bottom\n",
    "      result.write(frame)\n",
    "      cv2_imshow(frame)\n",
    "result.release()\n",
    "vidcap.release()"
   ]
  }
 ],
 "metadata": {
  "accelerator": "GPU",
  "colab": {
   "collapsed_sections": [],
   "name": "OCR.ipynb",
   "provenance": []
  },
  "kernelspec": {
   "display_name": "Python 3",
   "language": "python",
   "name": "python3"
  },
  "language_info": {
   "codemirror_mode": {
    "name": "ipython",
    "version": 3
   },
   "file_extension": ".py",
   "mimetype": "text/x-python",
   "name": "python",
   "nbconvert_exporter": "python",
   "pygments_lexer": "ipython3",
   "version": "3.8.3"
  }
 },
 "nbformat": 4,
 "nbformat_minor": 1
}
