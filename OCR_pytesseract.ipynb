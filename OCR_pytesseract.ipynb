{
  "nbformat": 4,
  "nbformat_minor": 0,
  "metadata": {
    "colab": {
      "name": "OCR.ipynb",
      "provenance": [],
      "collapsed_sections": []
    },
    "kernelspec": {
      "name": "python3",
      "display_name": "Python 3"
    },
    "accelerator": "GPU"
  },
  "cells": [
    {
      "cell_type": "code",
      "metadata": {
        "id": "svy51_lKpF7v"
      },
      "source": [
        "!pip install pafy\r\n",
        "!pip install imutils pafy youtube-dl"
      ],
      "execution_count": null,
      "outputs": []
    },
    {
      "cell_type": "code",
      "metadata": {
        "id": "lx4HUTsyoXsm"
      },
      "source": [
        "import imutils\r\n",
        "import cv2\r\n",
        "import pafy\r\n",
        "from IPython.display import YouTubeVideo\r\n",
        "url = 'https://www.youtube.com/watch?v=TB_58npl9_o'\r\n",
        "video = pafy.new(url)\r\n",
        "best = video.getbest(preftype=\"mp4\")\r\n",
        "vidcap = cv2.VideoCapture(best.url)"
      ],
      "execution_count": null,
      "outputs": []
    },
    {
      "cell_type": "code",
      "metadata": {
        "id": "0LwK56GhHula"
      },
      "source": [
        "from google.colab.patches import cv2_imshow\r\n",
        "!pip install pytesseract\r\n",
        "!sudo apt install tesseract-ocr"
      ],
      "execution_count": null,
      "outputs": []
    },
    {
      "cell_type": "code",
      "metadata": {
        "id": "qS7qAXfF6lV0"
      },
      "source": [
        "!which tesseract"
      ],
      "execution_count": null,
      "outputs": []
    },
    {
      "cell_type": "code",
      "metadata": {
        "id": "tt4OFeb1NElH"
      },
      "source": [
        "import pytesseract\r\n",
        "pytesseract.pytesseract.tesseract_cmd = (r'/usr/bin/tesseract')"
      ],
      "execution_count": null,
      "outputs": []
    },
    {
      "cell_type": "code",
      "metadata": {
        "id": "-c7gphkXpacs"
      },
      "source": [
        "size = (int(vidcap.get(3)), int(vidcap.get(4)))\r\n",
        "result = cv2.VideoWriter('result.mp4', cv2.VideoWriter.fourcc(*'MPEG'), 60, size)\r\n",
        "count=0\r\n",
        "while(count<2000): #taking only 2000 frames to prevent disconnect\r\n",
        "    ret, frame = vidcap.read()\r\n",
        "    if ret == True:\r\n",
        "      print(count)\r\n",
        "      count+=1\r\n",
        "      words = ''  #string of detected words\r\n",
        "      results = pytesseract.image_to_data(frame, output_type= pytesseract.Output.DICT)\r\n",
        "      for i in range(0, len(results[\"text\"])):\r\n",
        "        x = results[\"left\"][i]\r\n",
        "        y = results[\"top\"][i]\r\n",
        "        w = results[\"width\"][i]\r\n",
        "        h = results[\"height\"][i]\r\n",
        "        text = results[\"text\"][i]\r\n",
        "        conf = int(results[\"conf\"][i])\r\n",
        "        if conf > 40:\r\n",
        "          cv2.rectangle(frame, (x, y), (x + w, y + h), (0, 255, 0), 2) #bounding box for detected words\r\n",
        "          words+= ' '+text\r\n",
        "      cv2.putText(frame, words, (1, size[1] - 10), cv2.FONT_HERSHEY_SIMPLEX, 0.3, (0, 0, 255), 1) #displaying detected text at the bottom\r\n",
        "      result.write(frame)\r\n",
        "result.release()\r\n",
        "vidcap.release()"
      ],
      "execution_count": null,
      "outputs": []
    }
  ]
}
